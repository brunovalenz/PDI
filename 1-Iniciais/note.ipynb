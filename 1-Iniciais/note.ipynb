{
 "cells": [
  {
   "cell_type": "markdown",
   "metadata": {},
   "source": [
    "# Aprendizado manipulação de imagens utilizando numpy\n",
    "Apresenta um exemplo de manipulação de imagens usando matrizes numpy em Python. O objetivo é desenhar as iniciais do nome usando uma matriz de zeros e modificar os valores dos pixels para representar letras em um formato de imagem em tons de cinza."
   ]
  },
  {
   "cell_type": "markdown",
   "metadata": {},
   "source": [
    "## Descrição\n",
    "O código a seguir utiliza bibliotecas como `numpy` e `matplotlib` para criar e visualizar uma imagem em tons de cinza. A imagem é composta por uma matriz 2D de 9 linhas por 22 colunas, onde cada elemento da matriz representa um pixel. Os valores na matriz variam de 0 (preto) a 255 (branco), e esses valores são usados para desenhar as letras iniciais do meu nome.\n",
    "\n",
    "Dada uma matriz com 5 linhas e 10 colunas:\n",
    "```python\n",
    "\n",
    "#Alterar um pixel\n",
    "image_matrix[0,0] = 255\n",
    "\n",
    "#Alterar primeira linha\n",
    "image_matrix[0,:] = 255\n",
    "\n",
    "#Alterar varias linha, 4° e 5°\n",
    "image_matrix[3:5,:] = 255\n",
    "\n",
    "#Alterar ultima coluna \n",
    "image_matrix[:,9] = 120"
   ]
  },
  {
   "cell_type": "markdown",
   "metadata": {},
   "source": [
    "## Código"
   ]
  },
  {
   "cell_type": "code",
   "execution_count": 3,
   "metadata": {},
   "outputs": [
    {
     "name": "stdout",
     "output_type": "stream",
     "text": [
      "(9, 22)\n"
     ]
    },
    {
     "data": {
      "image/png": "[encoded data removed]",
      "text/plain": [
       "<Figure size 640x480 with 1 Axes>"
      ]
     },
     "metadata": {},
     "output_type": "display_data"
    }
   ],
   "source": [
    "import numpy as np\n",
    "import matplotlib.pyplot as plt\n",
    "\n",
    "# Criação da matriz de imagem\n",
    "linhas = 9\n",
    "colunas = 22\n",
    "image_matrix = np.zeros([linhas, colunas])\n",
    "print(image_matrix.shape)\n",
    "\n",
    "# Desenhando letras: B, C, R, V\n",
    "\n",
    "# Letra B\n",
    "image_matrix[1:8, 1] = 255\n",
    "image_matrix[1, 2:4] = 255\n",
    "image_matrix[2:4, 4] = 255\n",
    "image_matrix[4, 2:4] = 255\n",
    "image_matrix[7, 2:4] = 255\n",
    "image_matrix[5:7, 4] = 255\n",
    "\n",
    "# Letra C\n",
    "image_matrix[2:7, 6] = 255\n",
    "image_matrix[1, 7:10] = 255\n",
    "image_matrix[7, 7:10] = 255\n",
    "\n",
    "# Letra R\n",
    "image_matrix[1:8, 11] = 255\n",
    "image_matrix[1, 12:14] = 255\n",
    "image_matrix[2:4, 14] = 255\n",
    "image_matrix[4, 12:14] = 255\n",
    "image_matrix[5, 13] = 255\n",
    "image_matrix[6:8, 14] = 255\n",
    "\n",
    "# Letra V\n",
    "image_matrix[1:5, 16] = 255\n",
    "image_matrix[1:5, 20] = 255\n",
    "image_matrix[4:7, 17] = 255\n",
    "image_matrix[4:7, 19] = 255\n",
    "image_matrix[6:8, 18] = 255\n",
    "\n",
    "# Exibindo a imagem\n",
    "plt.imshow(image_matrix, cmap='gray')\n",
    "plt.show()"
   ]
  }
 ],
 "metadata": {
  "kernelspec": {
   "display_name": "Python 3",
   "language": "python",
   "name": "python3"
  },
  "language_info": {
   "codemirror_mode": {
    "name": "ipython",
    "version": 3
   },
   "file_extension": ".py",
   "mimetype": "text/x-python",
   "name": "python",
   "nbconvert_exporter": "python",
   "pygments_lexer": "ipython3",
   "version": "3.12.5"
  }
 },
 "nbformat": 4,
 "nbformat_minor": 2
}
